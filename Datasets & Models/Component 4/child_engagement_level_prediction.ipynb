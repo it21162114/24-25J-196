{
 "cells": [
  {
   "cell_type": "code",
   "execution_count": 2,
   "metadata": {},
   "outputs": [],
   "source": [
    "import pandas as pd\n",
    "import numpy as np\n",
    "from sklearn.model_selection import train_test_split, cross_val_score\n",
    "from sklearn.ensemble import RandomForestRegressor, GradientBoostingRegressor\n",
    "from sklearn.linear_model import LinearRegression\n",
    "from sklearn.metrics import mean_squared_error, r2_score\n",
    "from sklearn.preprocessing import LabelEncoder, StandardScaler\n",
    "import matplotlib.pyplot as plt\n",
    "import seaborn as sns"
   ]
  },
  {
   "cell_type": "code",
   "execution_count": 3,
   "metadata": {},
   "outputs": [
    {
     "data": {
      "text/html": [
       "<div>\n",
       "<style scoped>\n",
       "    .dataframe tbody tr th:only-of-type {\n",
       "        vertical-align: middle;\n",
       "    }\n",
       "\n",
       "    .dataframe tbody tr th {\n",
       "        vertical-align: top;\n",
       "    }\n",
       "\n",
       "    .dataframe thead th {\n",
       "        text-align: right;\n",
       "    }\n",
       "</style>\n",
       "<table border=\"1\" class=\"dataframe\">\n",
       "  <thead>\n",
       "    <tr style=\"text-align: right;\">\n",
       "      <th></th>\n",
       "      <th>ChildID</th>\n",
       "      <th>TaskType</th>\n",
       "      <th>CompletionTime</th>\n",
       "      <th>AccuracyScore</th>\n",
       "      <th>RepetitionCount</th>\n",
       "      <th>GazeDirection</th>\n",
       "      <th>EngagementScore</th>\n",
       "      <th>AttentionDuration</th>\n",
       "    </tr>\n",
       "  </thead>\n",
       "  <tbody>\n",
       "    <tr>\n",
       "      <th>0</th>\n",
       "      <td>Child_615</td>\n",
       "      <td>Animals</td>\n",
       "      <td>13</td>\n",
       "      <td>0.92</td>\n",
       "      <td>1</td>\n",
       "      <td>Up</td>\n",
       "      <td>1.00</td>\n",
       "      <td>15.2</td>\n",
       "    </tr>\n",
       "    <tr>\n",
       "      <th>1</th>\n",
       "      <td>Child_414</td>\n",
       "      <td>Animals</td>\n",
       "      <td>7</td>\n",
       "      <td>0.80</td>\n",
       "      <td>1</td>\n",
       "      <td>Up</td>\n",
       "      <td>0.96</td>\n",
       "      <td>13.0</td>\n",
       "    </tr>\n",
       "    <tr>\n",
       "      <th>2</th>\n",
       "      <td>Child_154</td>\n",
       "      <td>Math</td>\n",
       "      <td>9</td>\n",
       "      <td>0.88</td>\n",
       "      <td>3</td>\n",
       "      <td>Right</td>\n",
       "      <td>1.00</td>\n",
       "      <td>15.8</td>\n",
       "    </tr>\n",
       "    <tr>\n",
       "      <th>3</th>\n",
       "      <td>Child_587</td>\n",
       "      <td>Shapes</td>\n",
       "      <td>9</td>\n",
       "      <td>0.83</td>\n",
       "      <td>3</td>\n",
       "      <td>Down</td>\n",
       "      <td>1.00</td>\n",
       "      <td>17.3</td>\n",
       "    </tr>\n",
       "    <tr>\n",
       "      <th>4</th>\n",
       "      <td>Child_544</td>\n",
       "      <td>Reading</td>\n",
       "      <td>7</td>\n",
       "      <td>0.72</td>\n",
       "      <td>3</td>\n",
       "      <td>Center</td>\n",
       "      <td>0.96</td>\n",
       "      <td>15.2</td>\n",
       "    </tr>\n",
       "  </tbody>\n",
       "</table>\n",
       "</div>"
      ],
      "text/plain": [
       "     ChildID TaskType  CompletionTime  AccuracyScore  RepetitionCount  \\\n",
       "0  Child_615  Animals              13           0.92                1   \n",
       "1  Child_414  Animals               7           0.80                1   \n",
       "2  Child_154     Math               9           0.88                3   \n",
       "3  Child_587   Shapes               9           0.83                3   \n",
       "4  Child_544  Reading               7           0.72                3   \n",
       "\n",
       "  GazeDirection  EngagementScore  AttentionDuration  \n",
       "0            Up             1.00               15.2  \n",
       "1            Up             0.96               13.0  \n",
       "2         Right             1.00               15.8  \n",
       "3          Down             1.00               17.3  \n",
       "4        Center             0.96               15.2  "
      ]
     },
     "execution_count": 3,
     "metadata": {},
     "output_type": "execute_result"
    }
   ],
   "source": [
    "# Load the dataset\n",
    "file_path = 'child_learning_data.csv'\n",
    "data = pd.read_csv(file_path)\n",
    "\n",
    "data.head()"
   ]
  },
  {
   "cell_type": "code",
   "execution_count": 4,
   "metadata": {},
   "outputs": [],
   "source": [
    "# Step 1: Data Preprocessing\n",
    "categorical_cols = ['TaskType', 'GazeDirection']\n",
    "label_encoders = {col: LabelEncoder() for col in categorical_cols}"
   ]
  },
  {
   "cell_type": "code",
   "execution_count": 5,
   "metadata": {},
   "outputs": [],
   "source": [
    "for col in categorical_cols:\n",
    "    data[col] = label_encoders[col].fit_transform(data[col])\n",
    "\n",
    "# Define features (X) and target (y)\n",
    "X = data.drop(columns=['EngagementScore', 'ChildID'])\n",
    "y = data['EngagementScore']"
   ]
  },
  {
   "cell_type": "code",
   "execution_count": 6,
   "metadata": {},
   "outputs": [],
   "source": [
    "# Scale features\n",
    "scaler = StandardScaler()\n",
    "X_scaled = scaler.fit_transform(X)\n",
    "\n",
    "# Train-test split\n",
    "X_train, X_test, y_train, y_test = train_test_split(X_scaled, y, test_size=0.2, random_state=42)\n"
   ]
  },
  {
   "cell_type": "code",
   "execution_count": 7,
   "metadata": {},
   "outputs": [],
   "source": [
    "# Step 2: Train the Dataset\n",
    "models = {\n",
    "    'Linear Regression': LinearRegression(),\n",
    "    'Random Forest': RandomForestRegressor(random_state=42),\n",
    "    'Gradient Boosting': GradientBoostingRegressor(random_state=42)\n",
    "}"
   ]
  },
  {
   "cell_type": "code",
   "execution_count": 8,
   "metadata": {},
   "outputs": [],
   "source": [
    "results = {}\n",
    "for name, model in models.items():\n",
    "    model.fit(X_train, y_train)\n",
    "    y_pred = model.predict(X_test)\n",
    "    mse = mean_squared_error(y_test, y_pred)\n",
    "    r2 = r2_score(y_test, y_pred)\n",
    "    results[name] = {'MSE': mse, 'R2': r2}\n"
   ]
  },
  {
   "cell_type": "code",
   "execution_count": 9,
   "metadata": {},
   "outputs": [
    {
     "name": "stderr",
     "output_type": "stream",
     "text": [
      "C:\\Users\\Ash\\AppData\\Local\\Temp\\ipykernel_17020\\3124252726.py:6: FutureWarning: \n",
      "\n",
      "Passing `palette` without assigning `hue` is deprecated and will be removed in v0.14.0. Assign the `x` variable to `hue` and set `legend=False` for the same effect.\n",
      "\n",
      "  sns.barplot(x=results_df.index, y='R2', data=results_df, palette='viridis')\n"
     ]
    },
    {
     "data": {
      "image/png": "[encoded data removed]",
      "text/plain": [
       "<Figure size 1000x600 with 1 Axes>"
      ]
     },
     "metadata": {},
     "output_type": "display_data"
    }
   ],
   "source": [
    "# Step 3: Visualize Results\n",
    "results_df = pd.DataFrame(results).T\n",
    "\n",
    "# Plot accuracy scores\n",
    "plt.figure(figsize=(10, 6))\n",
    "sns.barplot(x=results_df.index, y='R2', data=results_df, palette='viridis')\n",
    "plt.title('Model R2 Scores')\n",
    "plt.ylabel('R2 Score')\n",
    "plt.xlabel('Model')\n",
    "plt.show()"
   ]
  },
  {
   "cell_type": "code",
   "execution_count": 10,
   "metadata": {},
   "outputs": [
    {
     "name": "stderr",
     "output_type": "stream",
     "text": [
      "C:\\Users\\Ash\\AppData\\Local\\Temp\\ipykernel_17020\\236068164.py:10: FutureWarning: \n",
      "\n",
      "Passing `palette` without assigning `hue` is deprecated and will be removed in v0.14.0. Assign the `y` variable to `hue` and set `legend=False` for the same effect.\n",
      "\n",
      "  sns.barplot(x='Importance', y='Feature', data=importance_df, palette='viridis')\n"
     ]
    },
    {
     "data": {
      "image/png": "[encoded data removed]",
      "text/plain": [
       "<Figure size 1000x600 with 1 Axes>"
      ]
     },
     "metadata": {},
     "output_type": "display_data"
    }
   ],
   "source": [
    "best_model_name = results_df['R2'].idxmax()\n",
    "best_model = models[best_model_name]\n",
    "\n",
    "if hasattr(best_model, 'feature_importances_'):\n",
    "    feature_importance = best_model.feature_importances_\n",
    "    feature_names = data.drop(columns=['EngagementScore', 'ChildID']).columns\n",
    "    importance_df = pd.DataFrame({'Feature': feature_names, 'Importance': feature_importance}).sort_values(by='Importance', ascending=False)\n",
    "\n",
    "    plt.figure(figsize=(10, 6))\n",
    "    sns.barplot(x='Importance', y='Feature', data=importance_df, palette='viridis')\n",
    "    plt.title(f'Feature Importance for {best_model_name}')\n",
    "    plt.xlabel('Importance')\n",
    "    plt.ylabel('Feature')\n",
    "    plt.show()\n",
    "else:\n",
    "    print(f\"The best model ({best_model_name}) does not support feature importance.\")"
   ]
  },
  {
   "cell_type": "code",
   "execution_count": 11,
   "metadata": {},
   "outputs": [
    {
     "name": "stdout",
     "output_type": "stream",
     "text": [
      "Model Evaluation Results:\n",
      "                        MSE        R2\n",
      "Linear Regression  0.002988  0.424655\n",
      "Random Forest      0.003153  0.392779\n",
      "Gradient Boosting  0.002872  0.446990\n"
     ]
    }
   ],
   "source": [
    "# Step 4: Output Results\n",
    "print(\"Model Evaluation Results:\")\n",
    "print(results_df)"
   ]
  },
  {
   "cell_type": "code",
   "execution_count": 12,
   "metadata": {},
   "outputs": [
    {
     "name": "stdout",
     "output_type": "stream",
     "text": [
      "Best model (Gradient Boosting) saved as 'best_model_gradient_boosting.joblib'.\n"
     ]
    }
   ],
   "source": [
    "import joblib\n",
    "\n",
    "best_model_name = results_df['R2'].idxmax()\n",
    "best_model = models[best_model_name]\n",
    "\n",
    "# Save the model to a file\n",
    "model_filename = f'best_model_{best_model_name.replace(\" \", \"_\").lower()}.joblib'\n",
    "joblib.dump(best_model, model_filename)\n",
    "print(f\"Best model ({best_model_name}) saved as '{model_filename}'.\")"
   ]
  },
  {
   "cell_type": "code",
   "execution_count": 13,
   "metadata": {},
   "outputs": [
    {
     "name": "stdout",
     "output_type": "stream",
     "text": [
      "Loaded model: GradientBoostingRegressor(random_state=42)\n"
     ]
    }
   ],
   "source": [
    "# Load the saved model\n",
    "loaded_model = joblib.load(model_filename)\n",
    "print(f\"Loaded model: {loaded_model}\")"
   ]
  },
  {
   "cell_type": "code",
   "execution_count": 14,
   "metadata": {},
   "outputs": [
    {
     "name": "stdout",
     "output_type": "stream",
     "text": [
      "\n",
      "Evaluation of Loaded Model:\n",
      "Mean Squared Error: 0.0029\n",
      "R2 Score: 0.4470\n"
     ]
    }
   ],
   "source": [
    "y_pred_loaded = loaded_model.predict(X_test)\n",
    "\n",
    "# Evaluate the predictions\n",
    "mse_loaded = mean_squared_error(y_test, y_pred_loaded)\n",
    "r2_loaded = r2_score(y_test, y_pred_loaded)\n",
    "\n",
    "print(\"\\nEvaluation of Loaded Model:\")\n",
    "print(f\"Mean Squared Error: {mse_loaded:.4f}\")\n",
    "print(f\"R2 Score: {r2_loaded:.4f}\")"
   ]
  },
  {
   "cell_type": "code",
   "execution_count": 15,
   "metadata": {},
   "outputs": [
    {
     "name": "stdout",
     "output_type": "stream",
     "text": [
      "\n",
      " Engagement level: 0.9997\n"
     ]
    },
    {
     "name": "stderr",
     "output_type": "stream",
     "text": [
      "c:\\Users\\Ash\\AppData\\Local\\Programs\\Python\\Python311\\Lib\\site-packages\\sklearn\\base.py:493: UserWarning: X does not have valid feature names, but StandardScaler was fitted with feature names\n",
      "  warnings.warn(\n"
     ]
    }
   ],
   "source": [
    "new_sample = [[1, 7, 0.95, 2, 1, 18]]\n",
    "new_sample_scaled = scaler.transform(new_sample)\n",
    "new_prediction = loaded_model.predict(new_sample_scaled)\n",
    "print(f\"\\n Engagement level: {new_prediction[0]:.4f}\")"
   ]
  }
 ],
 "metadata": {
  "kernelspec": {
   "display_name": "Python 3",
   "language": "python",
   "name": "python3"
  },
  "language_info": {
   "codemirror_mode": {
    "name": "ipython",
    "version": 3
   },
   "file_extension": ".py",
   "mimetype": "text/x-python",
   "name": "python",
   "nbconvert_exporter": "python",
   "pygments_lexer": "ipython3",
   "version": "3.11.0"
  }
 },
 "nbformat": 4,
 "nbformat_minor": 2
}
